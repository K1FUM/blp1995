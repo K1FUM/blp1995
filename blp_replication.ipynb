{
 "cells": [
  {
   "cell_type": "code",
   "execution_count": 1,
   "metadata": {},
   "outputs": [],
   "source": [
    "using DataFrames\n",
    "using DataFramesMeta\n",
    "using LinearAlgebra\n",
    "using CSV \n",
    "using BenchmarkTools\n",
    "using NLopt\n",
    "using Distributions\n",
    "using StatsFuns\n",
    "using Primes\n",
    "using Statistics\n",
    "using Random"
   ]
  },
  {
   "cell_type": "code",
   "execution_count": 2,
   "metadata": {},
   "outputs": [],
   "source": [
    "incomeMeans = [2.01156, 2.06526, 2.07843, 2.05775, 2.02915, 2.05346, 2.06745,\n",
    "2.09805, 2.10404, 2.07208, 2.06019, 2.06561, 2.07672, 2.10437, 2.12608, 2.16426,\n",
    "2.18071, 2.18856, 2.21250, 2.18377]\n",
    " \n",
    "sigma_v = 1.72\n",
    "βs = [-7.061, 2.883, 1.521, -0.122, 3.46]\n",
    "γs = [0.952, 0.477, 0.619, -0.415, -0.046, 0.019]\n",
    "α = 43.501\n",
    "σs = [3.612, 4.628, 1.818, 1.050, 2.056];"
   ]
  },
  {
   "cell_type": "markdown",
   "metadata": {},
   "source": [
    "## Data Preparation"
   ]
  },
  {
   "cell_type": "code",
   "execution_count": 3,
   "metadata": {},
   "outputs": [],
   "source": [
    "cars = DataFrame(CSV.File(\"/Users/wujifan/Desktop/coding/blp/blp_1995_data.csv\", header = true));\n",
    " \n",
    "cars[!,:ln_hpwt] = log.(cars[!,:hpwt])\n",
    "cars[!,:ln_space] = log.(cars[!,:space])\n",
    "cars[!,:ln_mpg] = log.(cars[!,:mpg])\n",
    "cars[!,:ln_mpd] = log.(cars[!,:mpd])\n",
    "cars[!,:ln_price] = log.(cars[!,:price])\n",
    "cars[!,:trend] = cars[!,:market] .- 1 \n",
    "cars.cons = ones(size(cars,1))\n",
    "\n",
    "cars.diff_2 = log.(cars.share) - log.(cars.share_out);"
   ]
  },
  {
   "cell_type": "code",
   "execution_count": 4,
   "metadata": {},
   "outputs": [],
   "source": [
    "markets = cars.market\n",
    "m = unique(markets)\n",
    "firmid = cars.firmid;"
   ]
  },
  {
   "cell_type": "code",
   "execution_count": 5,
   "metadata": {},
   "outputs": [],
   "source": [
    "X_d = Matrix(cars[:,[:cons,:hpwt,:air,:mpd,:space]])\n",
    "X_s = Matrix(cars[:,[:cons,:ln_hpwt,:air,:ln_mpg,:ln_space,:trend]])\n",
    "price = cars.price\n",
    "δ = convert(Array, round.(cars[:,:diff_2], digits = 20));\n",
    "share = cars.share;"
   ]
  },
  {
   "cell_type": "code",
   "execution_count": 6,
   "metadata": {},
   "outputs": [
    {
     "data": {
      "text/plain": [
       "gen_iv (generic function with 1 method)"
      ]
     },
     "metadata": {},
     "output_type": "display_data"
    }
   ],
   "source": [
    "function gen_iv(X, markets, firmid, unique_markets)\n",
    "    z_1 = similar(X)\n",
    "    z_2 = similar(X)\n",
    "    for m in unique_markets\n",
    "        X_sub = X[findall(markets .== m),:]\n",
    "        firmid_sub = firmid[findall(markets .== m),:]\n",
    "        samefirm = convert(Array{Float64,2}, firmid_sub .== firmid_sub')\n",
    "        z1 = similar(X_sub)\n",
    "        z2 = similar(X_sub)\n",
    "        for i in 1:size(X,2)\n",
    "            X_i = X_sub[:,i]\n",
    "            #z_1[:,i] = samefirm * X_i\n",
    "            Xi_sum = sum(X_i,dims = 1)\n",
    "            z1[:,i] = sum((X_i .* samefirm), dims = 2)'\n",
    "            z2[:,i] .= Xi_sum \n",
    "        end\n",
    "        z_1[findall(markets .== m),:] = z1\n",
    "        z_2[findall(markets .== m),:] = z2\n",
    "    end\n",
    "    return z_1,z_2\n",
    "end"
   ]
  },
  {
   "cell_type": "markdown",
   "metadata": {},
   "source": [
    "## Table III Column(1)"
   ]
  },
  {
   "cell_type": "code",
   "execution_count": 7,
   "metadata": {},
   "outputs": [
    {
     "data": {
      "text/plain": [
       "6-element Vector{Float64}:\n",
       " -10.073007506006823\n",
       "  -0.1230948774685233\n",
       "  -0.03441478166781374\n",
       "   0.2654656794440304\n",
       "   2.3419141640983057\n",
       "  -0.08860627178125562"
      ]
     },
     "metadata": {},
     "output_type": "display_data"
    }
   ],
   "source": [
    "X = [X_d price]\n",
    "Y = δ\n",
    "β = inv(X'*X)*X'*Y\n"
   ]
  },
  {
   "cell_type": "markdown",
   "metadata": {},
   "source": [
    "## Table III Column(2)"
   ]
  },
  {
   "cell_type": "code",
   "execution_count": 8,
   "metadata": {},
   "outputs": [
    {
     "data": {
      "text/plain": [
       "6-element Vector{Float64}:\n",
       " -9.2762929388534\n",
       "  1.9493511517597137\n",
       "  1.2873914769799415\n",
       "  0.054561470890819044\n",
       "  2.357602541609871\n",
       " -0.2157869518896273"
      ]
     },
     "metadata": {},
     "output_type": "display_data"
    }
   ],
   "source": [
    "zd_1, zd_2 = gen_iv(X_d,markets,firmid,m)\n",
    "Z_d = [X_d zd_1 zd_2]\n",
    "X = [X_d price]\n",
    "Y = δ\n",
    "β₁ = inv(X'*Z_d*Z_d'*X)*X'*Z_d*Z_d'*Y\n",
    "e = Y - X*β₁\n",
    "mm = Z_d .* e\n",
    "g = mean(mm, dims=1)\n",
    "w = inv(mm'mm/size(mm,1) .- g.*g')\n",
    "β₂ = inv(X'*Z_d*w*Z_d'*X)*X'*Z_d*w*Z_d'*Y\n"
   ]
  },
  {
   "cell_type": "markdown",
   "metadata": {},
   "source": [
    "## Table III Column(3)"
   ]
  },
  {
   "cell_type": "code",
   "execution_count": 9,
   "metadata": {},
   "outputs": [
    {
     "data": {
      "text/plain": [
       "6-element Vector{Float64}:\n",
       "  2.7929042302809473\n",
       "  0.5203366842873054\n",
       "  0.6797512956744369\n",
       " -0.4706402745568128\n",
       "  0.12482708487573904\n",
       "  0.01283074614345114"
      ]
     },
     "metadata": {},
     "output_type": "display_data"
    }
   ],
   "source": [
    "β = inv(X_s' * X_s) *X_s' * log.(price) "
   ]
  },
  {
   "cell_type": "markdown",
   "metadata": {},
   "source": [
    "# Full Model"
   ]
  },
  {
   "cell_type": "code",
   "execution_count": 10,
   "metadata": {},
   "outputs": [
    {
     "data": {
      "text/plain": [
       "cal_share (generic function with 1 method)"
      ]
     },
     "metadata": {},
     "output_type": "display_data"
    }
   ],
   "source": [
    "function cal_share(X,price,delta,unique_markets,alpha,sigma,sim)\n",
    "    Random.seed!(2024)\n",
    "    p_jt = zeros(size(X,1),1)\n",
    "    p_ijt = zeros(size(X,1),sim)'\n",
    "    v_im = randn(sim,5)\n",
    "    y_v = randn(sim,1)\n",
    "    for m in unique_markets\n",
    "        y_im = exp.(incomeMeans[m] .+ sigma_v .*y_v)\n",
    "        X_sub = X[findall(markets .== m),:]\n",
    "        price_sub = price[findall(markets .== m),:]\n",
    "        rand_effect = -alpha.* (1 ./ y_im) * price_sub' + v_im.*sigma'*X_sub'\n",
    "        delta_sub = delta[findall(markets .== m),:]\n",
    "        delta_ma = repeat(delta_sub',inner=[sim,1])\n",
    "        s0 = 1 ./ (1 .+ sum(exp.(rand_effect + delta_ma),dims = 2))\n",
    "        p_ijt_m = exp.(rand_effect + delta_ma) .* s0\n",
    "        p_jt[findall(markets .== m),:] = mean(p_ijt_m,dims = 1)\n",
    "        p_ijt[:,findall(markets .== m)] = p_ijt_m\n",
    "    end\n",
    "    return p_ijt',p_jt\n",
    "end"
   ]
  },
  {
   "cell_type": "code",
   "execution_count": 11,
   "metadata": {},
   "outputs": [
    {
     "data": {
      "text/plain": [
       "solve_delta (generic function with 1 method)"
      ]
     },
     "metadata": {},
     "output_type": "display_data"
    }
   ],
   "source": [
    "function solve_delta(X,price,delta,s,unique_markets,alpha,sigma,sim,eps,tol)\n",
    "    delta_0 = delta\n",
    "    while eps > tol\n",
    "        p_ijt,p_jt = cal_share(X,price,delta_0,unique_markets,alpha,sigma,sim)\n",
    "        delta_1 = delta_0 + log.(s./p_jt)\n",
    "        eps = maximum(abs.((delta_1 - delta_0)))\n",
    "        delta_0 = delta_1\n",
    "    end\n",
    "    return delta_0\n",
    "end"
   ]
  },
  {
   "cell_type": "code",
   "execution_count": 12,
   "metadata": {},
   "outputs": [
    {
     "data": {
      "text/plain": [
       "cal_mc (generic function with 1 method)"
      ]
     },
     "metadata": {},
     "output_type": "display_data"
    }
   ],
   "source": [
    "function cal_mc(X,price,delta,s,unique_markets,alpha,sigma,sim)\n",
    "    mc = zeros(size(X,1),1)\n",
    "    Random.seed!(2024)\n",
    "    y_v = randn(sim,1)\n",
    "    p_ijt,p_jt = cal_share(X,price,delta,unique_markets,alpha,sigma,sim)\n",
    "    for m in unique_markets\n",
    "        firmid_sub = firmid[findall(markets .== m),:]\n",
    "        Ω_sum = zeros(size(firmid_sub,1),size(firmid_sub,1))\n",
    "        samefirm = convert(Array{Float64,2}, firmid_sub .== firmid_sub')\n",
    "        s_m = p_jt[findall(markets .== m),:]\n",
    "        p_m = price[findall(markets .== m),:]\n",
    "        for i in 1:sim\n",
    "            s_i = p_ijt[findall(markets .== m),i]\n",
    "            y_i = exp.(incomeMeans[m] .+ sigma_v .*y_v)[i]\n",
    "            Ω_sum += (alpha ./ y_i) .* samefirm * (s_i * s_i' - diagm(s_i))\n",
    "        end\n",
    "        Ω =  Ω_sum ./ sim\n",
    "        mc[findall(markets .== m),:] = p_m - pinv(Ω) * s_m\n",
    "    end\n",
    "    return mc\n",
    "end"
   ]
  },
  {
   "cell_type": "code",
   "execution_count": 13,
   "metadata": {},
   "outputs": [],
   "source": [
    "mutable struct Model_Data\n",
    "    X_d :: Matrix{Float64}\n",
    "    X_s :: Matrix{Float64}\n",
    "    price :: Vector{Float64}\n",
    "    delta :: Vector{Float64}\n",
    "    share :: Vector{Float64}\n",
    "    unique_markets :: Vector{Int64}\n",
    "    alpha :: Float64\n",
    "    sigma :: Vector{Float64}\n",
    "    sim :: Int64\n",
    "    eps :: Int64\n",
    "    tol :: Float64\n",
    "    firmid :: Vector{Int64}\n",
    "    markets :: Vector{Int64}\n",
    "    mc :: Vector{Float64}\n",
    "    theta1 :: Vector{Float64}\n",
    "    function Model_Data(X_d,X_s,price,delta,share,unique_markets,alpha,sigma,sim,eps,tol,firmid,markets,mc,theta1)\n",
    "        return new(X_d,X_s,price,delta,share,unique_markets,alpha,sigma,sim,eps,tol,firmid,markets,mc,theta1)\n",
    "    end\n",
    "end"
   ]
  },
  {
   "cell_type": "code",
   "execution_count": 14,
   "metadata": {},
   "outputs": [
    {
     "data": {
      "text/plain": [
       "update_y (generic function with 1 method)"
      ]
     },
     "metadata": {},
     "output_type": "display_data"
    }
   ],
   "source": [
    "function update_y(m::Model_Data)\n",
    "    X_d = m.X_d\n",
    "    X_s = m.X_s\n",
    "    price = m.price\n",
    "    delta = m.delta\n",
    "    s = m.share\n",
    "    unique_markets = m.unique_markets\n",
    "    alpha = m.alpha\n",
    "    sigma = m.sigma\n",
    "    sim = m.sim\n",
    "    eps = m.eps\n",
    "    tol = m.tol\n",
    "    markets = m.markets\n",
    "    m.delta = vec(solve_delta(X_d,price,delta,s,unique_markets,alpha,sigma,sim,eps,tol))\n",
    "    delta = m.delta\n",
    "    mc = vec(cal_mc(X_d,price,delta,s,unique_markets,alpha,sigma,sim))\n",
    "    Y = vcat(delta,log.(mc))\n",
    "    Z_d1,Z_d2 = gen_iv(X_d,markets,firmid,unique_markets)\n",
    "    Z_d = [Z_d1 Z_d2]\n",
    "    Z_s1,Z_s2 = gen_iv(X_s,markets,firmid,unique_markets)\n",
    "    Z_s = [Z_s1 Z_s2]\n",
    "    X = [X_d zeros(size(X_s)); zeros(size(X_d)) X_s]\n",
    "    Z = [Z_d zeros(size(Z_s)); zeros(size(Z_d)) Z_s]\n",
    "    return X,Y,Z\n",
    "end"
   ]
  },
  {
   "cell_type": "code",
   "execution_count": 15,
   "metadata": {},
   "outputs": [
    {
     "data": {
      "text/plain": [
       "gmm (generic function with 1 method)"
      ]
     },
     "metadata": {},
     "output_type": "display_data"
    }
   ],
   "source": [
    "function gmm(θ₂,m::Model_Data,W)\n",
    "    m.alpha = θ₂[6]\n",
    "    m.sigma = θ₂[1:5] \n",
    "    X,Y,Z = update_y(m)\n",
    "    θ₁ = inv(X'*Z*W*Z'*X)*X'*Z*W*Z'*Y\n",
    "    m.theta1 = θ₁\n",
    "    ξ = Y - X* θ₁\n",
    "    g = Z'*ξ\n",
    "    obj = g'* W * g\n",
    "    return obj\n",
    "end"
   ]
  },
  {
   "cell_type": "code",
   "execution_count": 16,
   "metadata": {},
   "outputs": [],
   "source": [
    "model = Model_Data(X_d,X_s,price,δ,share,m,α,σs,1000,10,1e-14,firmid,markets,zeros(size(share,1)),vec(zeros(11,1)));"
   ]
  },
  {
   "cell_type": "code",
   "execution_count": 17,
   "metadata": {},
   "outputs": [
    {
     "name": "stdout",
     "output_type": "stream",
     "text": [
      "177.152172 seconds (14.99 M allocations: 462.981 GiB, 27.82% gc time, 0.80% compilation time)\n"
     ]
    },
    {
     "data": {
      "text/plain": [
       "(623.467086749299, [3.637, 4.652999999999999, 1.843, 0.9499999999999993, 2.0809999999999986, 43.65099999999999], :MAXEVAL_REACHED)"
      ]
     },
     "metadata": {},
     "output_type": "display_data"
    }
   ],
   "source": [
    "Z_d1,Z_d2 = gen_iv(X_d,markets,firmid,m)\n",
    "Z_d = [Z_d1 Z_d2]\n",
    "Z_s1,Z_s2 = gen_iv(X_s,markets,firmid,m)\n",
    "Z_s = [Z_s1 Z_s2]\n",
    "Z = [Z_d zeros(size(Z_s)); zeros(size(Z_d)) Z_s];\n",
    "\n",
    "W = inv(Z'Z)\n",
    "opt = Opt(:LN_NELDERMEAD, 6)  # 创建一个6维度优化问题的Opt对象\n",
    "\n",
    "# 现在才可以设置opt对象的参数\n",
    "lower_bounds!(opt, [0.0, 0.0, 0.0, 0.0, 0.0, 5.0])\n",
    "initial_step!(opt, [0.5,0.5,0.5,0.5,0.5,3].*0.1)\n",
    "xtol_rel!(opt, 1e-4)\n",
    "maxeval!(opt, 10)\n",
    "min_objective!(opt, (x, y) -> gmm(x, model,W))  # 确保这个函数签名正确\n",
    "\n",
    "\n",
    "@time minf_, minx_, ret_ = optimize(opt,[3.612,4.628,1.818,1.050,2.056,43.501])\n"
   ]
  },
  {
   "cell_type": "code",
   "execution_count": 18,
   "metadata": {},
   "outputs": [],
   "source": [
    "X,Y,Z = update_y(model)\n",
    "θ₁ =  model.theta1\n",
    "ξ = Y - X*θ₁\n",
    "mm = Z .* ξ\n",
    "g = mean(mm, dims=1)\n",
    "W_opt = inv(mm'mm/size(mm,1) .- g.*g');"
   ]
  },
  {
   "cell_type": "code",
   "execution_count": 19,
   "metadata": {},
   "outputs": [
    {
     "name": "stdout",
     "output_type": "stream",
     "text": [
      "140.796176 seconds (11.23 M allocations: 453.240 GiB, 17.06% gc time, 0.00% compilation time)\n"
     ]
    },
    {
     "data": {
      "text/plain": [
       "(2.101765484295921e6, [3.637, 4.652999999999999, 1.7930000000000004, 1.075, 1.9560000000000004, 43.65099999999999], :MAXEVAL_REACHED)"
      ]
     },
     "metadata": {},
     "output_type": "display_data"
    }
   ],
   "source": [
    "opt = Opt(:LN_NELDERMEAD, 6)  # 创建一个6维度优化问题的Opt对象\n",
    "\n",
    "# 现在才可以设置opt对象的参数\n",
    "lower_bounds!(opt, [0.0, 0.0, 0.0, 0.0, 0.0, 5.0])\n",
    "initial_step!(opt, [0.5,0.5,0.5,0.5,0.5,3].*0.1)\n",
    "xtol_rel!(opt, 1e-4)\n",
    "maxeval!(opt, 10)\n",
    "min_objective!(opt, (x, y) -> gmm(x, model,W_opt))  # 确保这个函数签名正确\n",
    "\n",
    "\n",
    "@time minf_, minx_, ret_ = optimize(opt,[3.612,4.628,1.818,1.050,2.056,43.501])"
   ]
  }
 ],
 "metadata": {
  "kernelspec": {
   "display_name": "Julia 1.10.2",
   "language": "julia",
   "name": "julia-1.10"
  },
  "language_info": {
   "file_extension": ".jl",
   "mimetype": "application/julia",
   "name": "julia",
   "version": "1.10.2"
  }
 },
 "nbformat": 4,
 "nbformat_minor": 2
}
